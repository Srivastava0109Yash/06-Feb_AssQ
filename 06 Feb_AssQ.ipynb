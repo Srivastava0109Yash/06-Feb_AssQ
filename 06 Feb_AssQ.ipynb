{
 "cells": [
  {
   "cell_type": "markdown",
   "id": "2af4d94c",
   "metadata": {},
   "source": [
    "### Q1. Create a function which will take a list as an argument and return the product of all the numbers  after creating a flat list. \n",
    "Use the below-given list as an argument for your function. \n",
    "list1 = [1,2,3,4, [44,55,66, True], False, (34,56,78,89,34), {1,2,3,3,2,1}, {1:34, \"key2\": [55, 67, 78, 89], 4: (45,  22, 61, 34)}, [56, 'data science'], 'Machine Learning’] \n",
    "Note: you must extract numeric keys and values of the dictionary also. \n"
   ]
  },
  {
   "cell_type": "code",
   "execution_count": 19,
   "id": "7865d799",
   "metadata": {},
   "outputs": [
    {
     "name": "stdout",
     "output_type": "stream",
     "text": [
      "4134711838987085478833841242112000\n"
     ]
    }
   ],
   "source": [
    "def flatten_list_and_find_product(lst):\n",
    "    # Initialize a variable to store the product\n",
    "    product = 1\n",
    "    # Loop through the list and flatten the elements\n",
    "    for item in lst:\n",
    "        # If the item is a list, call the function recursively on it\n",
    "        if type(item) == list:\n",
    "            product *= flatten_list_and_find_product(item)\n",
    "        # If the item is a tuple, convert it to a list and call the function recursively on it\n",
    "        elif type(item) == tuple:\n",
    "            product *= flatten_list_and_find_product(list(item))\n",
    "        # If the item is a set, convert it to a list and call the function recursively on it\n",
    "        elif type(item) == set:\n",
    "            product *= flatten_list_and_find_product(list(item))\n",
    "        # If the item is a dictionary, extract numeric keys and values and call the function recursively on them\n",
    "        elif type(item) == dict:\n",
    "            # Initialize a list to store numeric keys and values\n",
    "            numeric_items = []\n",
    "            for key, value in item.items():\n",
    "                if type(key) == int or type(key) == float:\n",
    "                    numeric_items.append(key)\n",
    "                if type(value) == int or type(value) == float:\n",
    "                    numeric_items.append(value)\n",
    "                if type(value) == list:\n",
    "                    for elem in value:\n",
    "                        if type(elem) == int or type(elem) == float:\n",
    "                            numeric_items.append(elem)\n",
    "                if type(value) == tuple:\n",
    "                    for elem in value:\n",
    "                        if type(elem) == int or type(elem) == float:\n",
    "                            numeric_items.append(elem)\n",
    "            product *= flatten_list_and_find_product(numeric_items)\n",
    "        # If the item is a number, multiply it to the product\n",
    "        elif type(item) == int or type(item) == float:\n",
    "            product *= item\n",
    "    # Return the product\n",
    "    return product\n",
    "\n",
    "# Test the function\n",
    "list1 = [1,2,3,4, [44,55,66, True], False, (34,56,78,89,34), {1,2,3,3,2,1}, {1:34, \"key2\": [55, 67, 78, 89], 4: (45,22, 61, 34)}, [56, 'data science'], 'Machine Learning']\n",
    "print(flatten_list_and_find_product(list1))\n"
   ]
  },
  {
   "cell_type": "code",
   "execution_count": 12,
   "id": "c5517d5a",
   "metadata": {},
   "outputs": [
    {
     "data": {
      "text/plain": [
       "4134711838987085478833841242112000"
      ]
     },
     "execution_count": 12,
     "metadata": {},
     "output_type": "execute_result"
    }
   ],
   "source": [
    "# manual checking\n",
    "1 * 2 * 3 * 4 * 44 * 55 * 66 * 34 * 56 * 78 * 89 * 34 * 1 * 2 * 3 * 34 * 55 * 67 * 78 * 89 * 4 *45 * 22 * 61 * 34 * 56"
   ]
  },
  {
   "cell_type": "markdown",
   "id": "1e5b21a5",
   "metadata": {},
   "source": [
    "### Q2. Write a python program for encrypting a message sent to you by your friend. The logic of encryption should be such that, for a the output should be z. For b, the output should be y. For c, the output should be x respectively. Also, the whitespace should be replaced with a dollar sign. Keep the punctuation marks unchanged.\n",
    "Input Sentence: I want to become a Data Scientist.\n",
    "Encrypt the above input sentence using the program you just created.\n",
    "Note: Convert the given input sentence into lowercase before encrypting. The final output should be lowercase."
   ]
  },
  {
   "cell_type": "code",
   "execution_count": 25,
   "id": "b7474620",
   "metadata": {},
   "outputs": [
    {
     "name": "stdout",
     "output_type": "stream",
     "text": [
      "r$dzmg$gl$yvxlnv$z$wzgz$hxrvmgrhg.\n"
     ]
    }
   ],
   "source": [
    "def encrypt(sentence):\n",
    "    sentence = sentence.lower()\n",
    "    encryption_dict = {'a': 'z', 'b': 'y', 'c': 'x', 'd': 'w', 'e': 'v', 'f': 'u', 'g': 't', 'h': 's', 'i': 'r', 'j': 'q', 'k': 'p', 'l': 'o', 'm': 'n', 'n': 'm', 'o': 'l', 'p': 'k', 'q': 'j', 'r': 'i', 's': 'h', 't': 'g', 'u': 'f', 'v': 'e', 'w': 'd', 'x': 'c', 'y': 'b', 'z': 'a', ' ': '$'}\n",
    "    encrypted_sentence = ''\n",
    "    for char in sentence:\n",
    "        if char in encryption_dict:\n",
    "            encrypted_sentence += encryption_dict[char]\n",
    "        else:\n",
    "            encrypted_sentence += char\n",
    "    return encrypted_sentence\n",
    "\n",
    "input_sentence = \"I want to become a Data Scientist.\"\n",
    "print(encrypt(input_sentence))"
   ]
  },
  {
   "cell_type": "code",
   "execution_count": null,
   "id": "ab35f599",
   "metadata": {},
   "outputs": [],
   "source": []
  },
  {
   "cell_type": "code",
   "execution_count": null,
   "id": "a9c15309",
   "metadata": {},
   "outputs": [],
   "source": []
  }
 ],
 "metadata": {
  "kernelspec": {
   "display_name": "Python 3 (ipykernel)",
   "language": "python",
   "name": "python3"
  },
  "language_info": {
   "codemirror_mode": {
    "name": "ipython",
    "version": 3
   },
   "file_extension": ".py",
   "mimetype": "text/x-python",
   "name": "python",
   "nbconvert_exporter": "python",
   "pygments_lexer": "ipython3",
   "version": "3.9.7"
  }
 },
 "nbformat": 4,
 "nbformat_minor": 5
}
